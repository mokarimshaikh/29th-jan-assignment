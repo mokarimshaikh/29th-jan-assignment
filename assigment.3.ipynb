{
 "cells": [
  {
   "cell_type": "code",
   "execution_count": 1,
   "id": "d46ed2e4-7d9e-4ccd-881b-b9f13961881a",
   "metadata": {},
   "outputs": [],
   "source": [
    "# Q.1\n"
   ]
  },
  {
   "cell_type": "code",
   "execution_count": 3,
   "id": "a8ae50f8-9a30-4bb6-babc-28c4eb6bd621",
   "metadata": {},
   "outputs": [
    {
     "data": {
      "text/plain": [
       "'Guido van Rossum'"
      ]
     },
     "execution_count": 3,
     "metadata": {},
     "output_type": "execute_result"
    }
   ],
   "source": [
    "\"\"\"Guido van Rossum\"\"\"\n"
   ]
  },
  {
   "cell_type": "code",
   "execution_count": 5,
   "id": "7e826e48-9d19-4ffa-8e58-b2ef1c951759",
   "metadata": {},
   "outputs": [],
   "source": [
    " #Q.2\n"
   ]
  },
  {
   "cell_type": "code",
   "execution_count": 6,
   "id": "7ff65fd0-3577-43f5-acaa-82ba6ac08ded",
   "metadata": {},
   "outputs": [],
   "source": [
    "# ppython support multiple proogaramming paradigms.\n",
    "# 1 procedural programming 2 (oop) 3 function programing 4imperative programming 5 scripting"
   ]
  },
  {
   "cell_type": "code",
   "execution_count": 7,
   "id": "ed26690c-6fc8-4f7c-9b28-99c31719d91f",
   "metadata": {},
   "outputs": [],
   "source": [
    "# Q.3\n"
   ]
  },
  {
   "cell_type": "code",
   "execution_count": 8,
   "id": "1542aa49-551f-42e0-bf1e-570b329be87d",
   "metadata": {},
   "outputs": [],
   "source": [
    "# yws python is case sensative when dealing with identifiers."
   ]
  },
  {
   "cell_type": "code",
   "execution_count": 10,
   "id": "e210b77e-d608-4782-84cd-e1acdb4a8e4c",
   "metadata": {},
   "outputs": [],
   "source": [
    "# Q.4\n"
   ]
  },
  {
   "cell_type": "code",
   "execution_count": 9,
   "id": "b3c9db42-0d12-4638-9c49-b49572e3bd61",
   "metadata": {},
   "outputs": [],
   "source": [
    "# \".py\""
   ]
  },
  {
   "cell_type": "code",
   "execution_count": 11,
   "id": "6e5acccb-aec1-4b9a-a9bc-06b8f13003ee",
   "metadata": {},
   "outputs": [],
   "source": [
    "# Q.5"
   ]
  },
  {
   "cell_type": "code",
   "execution_count": 12,
   "id": "d40c7260-ddd9-4376-b52b-6cdd12fc159e",
   "metadata": {},
   "outputs": [],
   "source": [
    " # ans ) interpreter"
   ]
  },
  {
   "cell_type": "code",
   "execution_count": 13,
   "id": "69ff9541-b479-4735-9875-c79092bbe5bf",
   "metadata": {},
   "outputs": [],
   "source": [
    "# Q.6\n"
   ]
  },
  {
   "cell_type": "code",
   "execution_count": 15,
   "id": "59e12009-6f5f-4fb7-a949-5c2c8046019d",
   "metadata": {},
   "outputs": [
    {
     "data": {
      "text/plain": [
       "'def my_function():\\n    # code block for the function\\n    \\nif condition:\\n    # code block exicuted if condition is true\\n    \\nelif condition:\\n    # code block exicuted if another condition is true\\n    \\nelse:\\n    # code block exicuted if none of the above condition are ture'"
      ]
     },
     "execution_count": 15,
     "metadata": {},
     "output_type": "execute_result"
    }
   ],
   "source": [
    "'''def my_function():\n",
    "    # code block for the function\n",
    "    \n",
    "if condition:\n",
    "    # code block exicuted if condition is true\n",
    "    \n",
    "elif condition:\n",
    "    # code block exicuted if another condition is true\n",
    "    \n",
    "else:\n",
    "    # code block exicuted if none of the above condition are ture'''"
   ]
  },
  {
   "cell_type": "code",
   "execution_count": 16,
   "id": "ab246570-c417-4325-b37d-32a30505a186",
   "metadata": {},
   "outputs": [],
   "source": [
    "# Q.7\n"
   ]
  },
  {
   "cell_type": "code",
   "execution_count": 17,
   "id": "c8f5f656-ac44-4f65-8597-58f248c667b4",
   "metadata": {},
   "outputs": [],
   "source": [
    "# ans) \"#\" to give a single line comment."
   ]
  },
  {
   "cell_type": "code",
   "execution_count": 18,
   "id": "5477c5df-efca-45e4-8f64-8dcff27a1011",
   "metadata": {},
   "outputs": [],
   "source": [
    "# Q .8\n"
   ]
  },
  {
   "cell_type": "code",
   "execution_count": 22,
   "id": "c7e238a7-924b-44ad-b139-7d53f3597415",
   "metadata": {},
   "outputs": [
    {
     "name": "stdout",
     "output_type": "stream",
     "text": [
      "python_version : 3.10.8 | packaged by conda-forge | (main, Nov 22 2022, 08:26:04) [GCC 10.4.0]\n"
     ]
    }
   ],
   "source": [
    "import sys\n",
    "\n",
    "python_version=sys.version\n",
    "\n",
    "print(\"python_version :\", python_version)"
   ]
  },
  {
   "cell_type": "code",
   "execution_count": 23,
   "id": "37906fab-39b4-41aa-91b0-e1f3eb25eec8",
   "metadata": {},
   "outputs": [],
   "source": [
    "# Q . 10\n"
   ]
  },
  {
   "cell_type": "code",
   "execution_count": 24,
   "id": "436fb395-f9f3-4497-a717-050810cd1564",
   "metadata": {},
   "outputs": [],
   "source": [
    " # \"pip\" stand for \"pip installs packages.\" it is a package manager for python that allows you to easily install,manage,and unistalls python packages from the python\n",
    "    "
   ]
  },
  {
   "cell_type": "code",
   "execution_count": 25,
   "id": "8293aeaf-463a-4c37-ac9f-3eb1dfbfa66e",
   "metadata": {},
   "outputs": [],
   "source": [
    " # Q.11\n",
    "    "
   ]
  },
  {
   "cell_type": "code",
   "execution_count": 26,
   "id": "066c22b1-922d-40da-bb47-74af78f257b1",
   "metadata": {},
   "outputs": [],
   "source": [
    "# 1 ) print()\n",
    "# 2 ) type()\n",
    "# 3 ) len()\n",
    "# 4 ) range()\n",
    "# 5 ) input()\n",
    "# 6 ) sum()\n",
    "# 7 ) max()\n",
    "# 8 ) min()\n",
    "# 9 ) sum()\n",
    "# 10) str()"
   ]
  },
  {
   "cell_type": "code",
   "execution_count": 27,
   "id": "dcfacd06-a393-4aca-b2f6-b4c1773ce321",
   "metadata": {},
   "outputs": [],
   "source": [
    "# Q.12\n"
   ]
  },
  {
   "cell_type": "code",
   "execution_count": 28,
   "id": "8f6db65a-8f15-4ae9-840f-a5a9d438eab9",
   "metadata": {},
   "outputs": [],
   "source": [
    " # 80 char line limit .however, python itself doesn't have stict maxim len for identifiers"
   ]
  },
  {
   "cell_type": "code",
   "execution_count": 29,
   "id": "07a305e1-745b-4b43-9ac8-3bb515659ed3",
   "metadata": {},
   "outputs": [],
   "source": [
    " # Q.13\n",
    "    "
   ]
  },
  {
   "cell_type": "code",
   "execution_count": 30,
   "id": "d3c4ba7e-1073-4359-8b5b-b6912620b32a",
   "metadata": {},
   "outputs": [],
   "source": [
    "# 1 ) Easy to learn and read\n",
    "# 2 ) versatile and general_purpose\n",
    "# 3 ) large standard library\n",
    "# 4 ) community and ecosystem"
   ]
  },
  {
   "cell_type": "code",
   "execution_count": 31,
   "id": "b9b269a0-2932-469a-bd35-818c6e0010de",
   "metadata": {},
   "outputs": [],
   "source": [
    " # Q.14\n",
    "    "
   ]
  },
  {
   "cell_type": "code",
   "execution_count": 32,
   "id": "d058141e-b2b2-4e87-abbe-e3dde53dc475",
   "metadata": {},
   "outputs": [],
   "source": [
    "# ans ) memory managment in python is handled automatically by the python runtime enviroment."
   ]
  },
  {
   "cell_type": "code",
   "execution_count": 33,
   "id": "d7c0f723-bc68-4fc2-b2db-f8b74c173d8b",
   "metadata": {},
   "outputs": [],
   "source": [
    "# Q.15\n"
   ]
  },
  {
   "cell_type": "code",
   "execution_count": null,
   "id": "bbf7150d-85e8-4d2b-947d-d008e2371ae3",
   "metadata": {},
   "outputs": [],
   "source": [
    " # 1) downlode python installer\n",
    " # 2) run the istaller   \n",
    "# 2) select installation option\n",
    "# 2) proceed with installation\n",
    "# 2) verify installation\n",
    "# 2) "
   ]
  }
 ],
 "metadata": {
  "kernelspec": {
   "display_name": "Python 3 (ipykernel)",
   "language": "python",
   "name": "python3"
  },
  "language_info": {
   "codemirror_mode": {
    "name": "ipython",
    "version": 3
   },
   "file_extension": ".py",
   "mimetype": "text/x-python",
   "name": "python",
   "nbconvert_exporter": "python",
   "pygments_lexer": "ipython3",
   "version": "3.10.8"
  }
 },
 "nbformat": 4,
 "nbformat_minor": 5
}
